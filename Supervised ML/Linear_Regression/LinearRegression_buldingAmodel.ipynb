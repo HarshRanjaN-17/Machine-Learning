{
 "cells": [
  {
   "cell_type": "markdown",
   "metadata": {},
   "source": [
    "Linear Regression Code with generated data by building a ML model\n",
    "\n"
   ]
  },
  {
   "cell_type": "code",
   "execution_count": 1,
   "metadata": {},
   "outputs": [],
   "source": [
    "from math import sqrt\n",
    "import matplotlib.pyplot as plt\n",
    "import numpy as np\n",
    "import random"
   ]
  },
  {
   "cell_type": "code",
   "execution_count": 2,
   "metadata": {},
   "outputs": [],
   "source": [
    "x=[]\n",
    "y=[]\n",
    "y_pred=[]\n",
    "for k in range(0,100,4):\n",
    "    x.append(k)\n",
    "for k in range(0,100,4):\n",
    "    y.append(k*1.5 - 10 + float(random.randint(-100,100))/4)\n",
    "#print(x)\n",
    "#print(y)"
   ]
  },
  {
   "cell_type": "markdown",
   "metadata": {},
   "source": [
    "reg eq. : y_pred=a*x+b\n"
   ]
  },
  {
   "cell_type": "code",
   "execution_count": 3,
   "metadata": {},
   "outputs": [],
   "source": [
    "a=0\n",
    "b=0\n",
    "lr=0.00000005   #learning rate\n",
    "epoch=1000\n",
    "losses=[]\n",
    "epoches=[]\n",
    "e=0\n",
    "loss1=10000\n",
    "prevloss=0\n",
    "lossdiff=1"
   ]
  },
  {
   "cell_type": "markdown",
   "metadata": {},
   "source": [
    "Updating the formula"
   ]
  },
  {
   "cell_type": "code",
   "execution_count": 4,
   "metadata": {},
   "outputs": [],
   "source": [
    "while lossdiff>0.00001:\n",
    "    # if(e%20==0):\n",
    "    #     print('epoch - ',e,' loss root = ',loss1)\n",
    "    suma=0\n",
    "    sumb=0\n",
    "    loss=0\n",
    "    for k in range(0,len(x)):\n",
    "        ypred=x[k]*a+b\n",
    "        suma+=x[k]*(y[k]-ypred)\n",
    "        sumb+=(y[k]-ypred)\n",
    "        loss+=(ypred-y[k])*(ypred-y[k])\n",
    "\n",
    "        # update a and b\n",
    "    da=-2*(suma)/len(x)\n",
    "    ba=-2*(sumb)/len(x)\n",
    "    loss/=len(x)\n",
    "    prevloss=loss1\n",
    "    loss1=sqrt(loss)\n",
    "    lossdiff=prevloss-loss1\n",
    "    epoches.append(e+1)\n",
    "    e+=1\n",
    "    losses.append(loss1)\n",
    "    a=a-lr*da\n",
    "    b-=lr*ba"
   ]
  },
  {
   "cell_type": "code",
   "execution_count": 5,
   "metadata": {},
   "outputs": [
    {
     "name": "stdout",
     "output_type": "stream",
     "text": [
      "a =  1.2613930455982283  b =  0.017342403428208288\n"
     ]
    },
    {
     "data": {
      "image/png": "[encoded data removed]",
      "text/plain": [
       "<Figure size 432x288 with 1 Axes>"
      ]
     },
     "metadata": {
      "needs_background": "light"
     },
     "output_type": "display_data"
    }
   ],
   "source": [
    "print('a = ',a,' b = ',b)\n",
    "plt.figure(1)\n",
    "plt.plot(epoches,losses,'orange')\n",
    "\n",
    "for k in range(0,len(x)):\n",
    "    y_pred.append(x[k]*a+b)"
   ]
  },
  {
   "cell_type": "code",
   "execution_count": 6,
   "metadata": {},
   "outputs": [
    {
     "name": "stdout",
     "output_type": "stream",
     "text": [
      "25   25   25\n"
     ]
    }
   ],
   "source": [
    "print(len(x),\" \",len(y),' ',len(y_pred))"
   ]
  },
  {
   "cell_type": "code",
   "execution_count": 7,
   "metadata": {},
   "outputs": [
    {
     "data": {
      "image/png": "[encoded data removed]",
      "text/plain": [
       "<Figure size 432x288 with 1 Axes>"
      ]
     },
     "metadata": {
      "needs_background": "light"
     },
     "output_type": "display_data"
    }
   ],
   "source": [
    "plt.figure(2)\n",
    "plt.plot(x,y_pred)\n",
    "plt.scatter(x,y,c='yellow')\n",
    "plt.xlabel('X')\n",
    "plt.ylabel('Y')\n",
    "plt.title('Test')\n",
    "plt.grid(True)"
   ]
  }
 ],
 "metadata": {
  "kernelspec": {
   "display_name": "Python 3.9.7 64-bit",
   "language": "python",
   "name": "python3"
  },
  "language_info": {
   "codemirror_mode": {
    "name": "ipython",
    "version": 3
   },
   "file_extension": ".py",
   "mimetype": "text/x-python",
   "name": "python",
   "nbconvert_exporter": "python",
   "pygments_lexer": "ipython3",
   "version": "3.9.7"
  },
  "orig_nbformat": 4,
  "vscode": {
   "interpreter": {
    "hash": "a63e1f615196db66ca264332955e6a0bb5ae024218425d84f3a82744815494ae"
   }
  }
 },
 "nbformat": 4,
 "nbformat_minor": 2
}
