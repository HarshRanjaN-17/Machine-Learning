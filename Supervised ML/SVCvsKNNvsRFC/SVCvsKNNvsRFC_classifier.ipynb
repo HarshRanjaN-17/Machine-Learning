{
 "cells": [
  {
   "cell_type": "markdown",
   "metadata": {},
   "source": [
    "SVC vs KNN vs RFC"
   ]
  },
  {
   "cell_type": "code",
   "execution_count": 75,
   "metadata": {},
   "outputs": [],
   "source": [
    "from sklearn.datasets import load_iris\n",
    "from sklearn.model_selection import train_test_split\n",
    "\n",
    "from sklearn.svm import SVC\n",
    "from sklearn.neighbors import KNeighborsClassifier\n",
    "from sklearn.ensemble import RandomForestClassifier\n",
    "\n",
    "from sklearn.metrics import accuracy_score"
   ]
  },
  {
   "cell_type": "code",
   "execution_count": 76,
   "metadata": {},
   "outputs": [
    {
     "name": "stdout",
     "output_type": "stream",
     "text": [
      "Iris features :  ['sepal length (cm)', 'sepal width (cm)', 'petal length (cm)', 'petal width (cm)']\n"
     ]
    }
   ],
   "source": [
    "iris=load_iris()\n",
    "#print('Iris : \\n',iris)\n",
    "data=iris['data']\n",
    "target=iris['target']\n",
    "print('Iris features : ',iris.feature_names)\n",
    "#print('Data : ',data)\n",
    "#print('Target : ',target)\n",
    "#print(iris)\n",
    "#print(type(iris))"
   ]
  },
  {
   "cell_type": "code",
   "execution_count": 77,
   "metadata": {},
   "outputs": [
    {
     "name": "stdout",
     "output_type": "stream",
     "text": [
      "   sepal length (cm)  sepal width (cm)  petal length (cm)  petal width (cm)  \\\n",
      "0                5.1               3.5                1.4               0.2   \n",
      "1                4.9               3.0                1.4               0.2   \n",
      "2                4.7               3.2                1.3               0.2   \n",
      "3                4.6               3.1                1.5               0.2   \n",
      "4                5.0               3.6                1.4               0.2   \n",
      "\n",
      "   label  \n",
      "0      0  \n",
      "1      0  \n",
      "2      0  \n",
      "3      0  \n",
      "4      0  \n"
     ]
    },
    {
     "data": {
      "text/plain": [
       "Text(0, 0.5, '__y__')"
      ]
     },
     "execution_count": 77,
     "metadata": {},
     "output_type": "execute_result"
    },
    {
     "data": {
      "image/png": "[encoded data removed]",
      "text/plain": [
       "<Figure size 432x288 with 1 Axes>"
      ]
     },
     "metadata": {
      "needs_background": "light"
     },
     "output_type": "display_data"
    }
   ],
   "source": [
    "import pandas as pd\n",
    "import matplotlib.pyplot as plt\n",
    "data_1=pd.DataFrame(iris.data)\n",
    "data_1.columns=iris.feature_names\n",
    "data_1['label']=iris.target\n",
    "print(data_1.head())\n",
    "#print(type(data))\n",
    "plt.scatter(data_1['sepal length (cm)'],data_1['sepal width (cm)'])\n",
    "plt.title('Sepal width vs Sepal length (in cm)')\n",
    "plt.xlabel('__x__')\n",
    "plt.ylabel('__y__')"
   ]
  },
  {
   "cell_type": "code",
   "execution_count": 78,
   "metadata": {},
   "outputs": [],
   "source": [
    "x_train,x_test,y_train,y_test=train_test_split(data,target,test_size=0.3)"
   ]
  },
  {
   "cell_type": "code",
   "execution_count": 79,
   "metadata": {},
   "outputs": [],
   "source": [
    "svc_model=SVC()\n",
    "knc_model=KNeighborsClassifier()\n",
    "rfc_model=RandomForestClassifier()"
   ]
  },
  {
   "cell_type": "code",
   "execution_count": 81,
   "metadata": {},
   "outputs": [
    {
     "name": "stdout",
     "output_type": "stream",
     "text": [
      "Model :  SVC()\n",
      "Accuracy :  0.9555555555555556 \n",
      "\n",
      "Model :  KNeighborsClassifier()\n",
      "Accuracy :  0.9555555555555556 \n",
      "\n",
      "Model :  RandomForestClassifier()\n",
      "Accuracy :  0.9333333333333333 \n",
      "\n"
     ]
    }
   ],
   "source": [
    "for model in (svc_model,knc_model,rfc_model):\n",
    "    print('Model : ',model)\n",
    "    model.fit(x_train,y_train)\n",
    "\n",
    "    prediction=model.predict(x_test)\n",
    "    print('Accuracy : ',accuracy_score(prediction,y_test),'\\n')"
   ]
  }
 ],
 "metadata": {
  "interpreter": {
   "hash": "fe44fef87f92f48a3a32707d0df204585f471652bc0ce87358a3ce712bc24db0"
  },
  "kernelspec": {
   "display_name": "Python 3.9.7 64-bit",
   "language": "python",
   "name": "python3"
  },
  "language_info": {
   "codemirror_mode": {
    "name": "ipython",
    "version": 3
   },
   "file_extension": ".py",
   "mimetype": "text/x-python",
   "name": "python",
   "nbconvert_exporter": "python",
   "pygments_lexer": "ipython3",
   "version": "3.9.7"
  },
  "orig_nbformat": 4
 },
 "nbformat": 4,
 "nbformat_minor": 2
}
